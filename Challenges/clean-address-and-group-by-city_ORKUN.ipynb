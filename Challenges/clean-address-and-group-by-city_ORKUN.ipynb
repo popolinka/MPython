{
 "cells": [
  {
   "cell_type": "markdown",
   "metadata": {},
   "source": [
    "# Cleanup address and group them by the city"
   ]
  },
  {
   "cell_type": "markdown",
   "metadata": {},
   "source": [
    "\n",
    "We have an `address_list = ['Pohlgasse 3\\n14256 Berlin']` which contains string with the full address `street`, `street-number`, `postcode` and `city`.\n",
    "\n",
    "As we want to convert the string-address into our internal structure, which is a dict.\n",
    "\n",
    "```python\n",
    "internal_address = {'street': 'Pohlgasse', 'street_no': '3', 'postcode': '14256', 'city': 'Berlin'},\n",
    "```\n",
    "\n",
    "**Be careful**\n",
    "- A street and city can contain spaces.\n",
    "- Also the data quality is not a good one and contains leading and trailing spaces.\n",
    "\n",
    "\n",
    "**Goal**: we want to group them by the city.\n",
    "```python\n",
    "result = {\n",
    "    'Berlin': [\n",
    "        {'street': 'Pohlgasse', 'street_no': '3', 'postcode': '14256', 'city': 'Berlin'},\n",
    "        {'street': 'Alberto Franke Ring', 'street_no': '13A', 'postcode': '10256', 'city': 'Berlin'}\n",
    "    ],\n",
    "    'Mainz Kostheim': [\n",
    "        # address\n",
    "    ]\n",
    "    # ...more cities and address grouped by cities\n",
    "}\n",
    "```\n",
    "\n",
    "What you'll need to solve this: `list`, `object`, `loop`, `strings`.\n",
    "\n",
    "**Your task**\n",
    "- [x] Write the function `group_addresss_by_city`\n",
    "- [x] Try make it run first.\n",
    "- [x] Make sure it covers all edge cases.\n",
    "  - [x] Streets and cities doesn't starts.\n",
    "  - [x] Streets and cities doesn't end with spaces.\n",
    "  - [x] Streets and cities doesn't contains multiple spaces.\n",
    "  - [x] Streets and cities doesn't contains street-number or postcode.\n",
    "- [x] Make use of divide and conquer.\n",
    "- [ ] Refactor so it is readable and maintainable.\n",
    "- [x] Avoid one-does-all-function.\n",
    "\n",
    "**Bonus**:  For a more sophisticated solution you'll need knowledge about: `generator`\n",
    "- [x] Try to keep your runtime O(n): So just one iteration. -> prevent to loop multiple times through the data while maintaining readability.\n",
    "- [ ] Use only string operations to extract the data.\n"
   ]
  },
  {
   "cell_type": "code",
   "execution_count": 3,
   "metadata": {},
   "outputs": [],
   "source": [
    "raw_addresses = [\n",
    "  'Dirk Bauer Weg 9/8\\n97995 Berlin ',\n",
    "  'Sigmund Wulff Gasse 936\\n27247  München',\n",
    "  'Edelgard Ruppert Gasse 466\\n45556  München ',\n",
    "  ' Katarzyna Gehringer Platz  847\\n43743 Berlin ',\n",
    "  'Dippelstr. 785\\n 25561 München',\n",
    "  'Kambsweg  180\\n75157  Berlin',\n",
    "  'Schaafplatz 8\\n07706 München',\n",
    "  'Nancy  Beyer Gasse 7/0\\n80939 Mainz  Kostheim',\n",
    "  'Kai Uwe   Kitzmann  Platz 30\\n97024   Mainz  Kostheim ',\n",
    "  '     Eckbauergasse 4/0\\n40115 Mainz Kostheim',\n",
    "  'Schollweg 8\\n01984 Aue',\n",
    "  'Ernst-Dieter-Reinhardt-Straße 36\\n11397 Mainz Kostheim',\n",
    "  'Anatoli Geisel Ring 09\\n12077 Aue',\n",
    "  'Karzplatz 844\\n20113 Aue',\n",
    "]"
   ]
  },
  {
   "cell_type": "code",
   "execution_count": 4,
   "metadata": {},
   "outputs": [],
   "source": [
    "expected_addresses = {\n",
    "    'Berlin': [\n",
    "        {'street': 'Dirk Bauer Weg', 'street_no': '9/8', 'postcode': '97995', 'city': 'Berlin'},\n",
    "        {'street': 'Katarzyna Gehringer Platz', 'street_no': '847', 'postcode': '43743', 'city': 'Berlin'},\n",
    "        {'street': 'Kambsweg', 'street_no': '180', 'postcode': '75157', 'city': 'Berlin'},\n",
    "    ],\n",
    "    'München': [\n",
    "        {'street': 'Sigmund Wulff Gasse', 'street_no': '936', 'postcode': '27247', 'city': 'München'},\n",
    "        {'street': 'Edelgard Ruppert Gasse', 'street_no': '466', 'postcode': '45556', 'city': 'München'},\n",
    "        {'street': 'Dippelstr.', 'street_no': '785', 'postcode': '25561', 'city': 'München'},\n",
    "        {'street': 'Schaafplatz', 'street_no': '8', 'postcode': '07706', 'city': 'München'},\n",
    "    ],\n",
    "    'Mainz Kostheim': [\n",
    "        {'street': 'Nancy Beyer Gasse', 'street_no': '7/0', 'postcode': '80939', 'city': 'Mainz Kostheim'},\n",
    "        {'street': 'Kai Uwe Kitzmann Platz', 'street_no': '30', 'postcode': '97024', 'city': 'Mainz Kostheim'},\n",
    "        {'street': 'Eckbauergasse', 'street_no': '4/0', 'postcode': '40115', 'city': 'Mainz Kostheim'},\n",
    "        {'street': 'Ernst-Dieter-Reinhardt-Straße', 'street_no': '36', 'postcode': '11397', 'city': 'Mainz Kostheim'},\n",
    "    ],\n",
    "    'Aue': [\n",
    "        {'street': 'Schollweg', 'street_no': '8', 'postcode': '01984', 'city': 'Aue'},\n",
    "        {'street': 'Anatoli Geisel Ring', 'street_no': '09', 'postcode': '12077', 'city': 'Aue'},\n",
    "        {'street': 'Karzplatz', 'street_no': '844', 'postcode': '20113', 'city': 'Aue'},\n",
    "    ],\n",
    "}"
   ]
  },
  {
   "cell_type": "code",
   "execution_count": 1,
   "metadata": {},
   "outputs": [],
   "source": [
    "import re"
   ]
  },
  {
   "cell_type": "code",
   "execution_count": 32,
   "metadata": {},
   "outputs": [
    {
     "name": "stdout",
     "output_type": "stream",
     "text": [
      "{'München': [{'street': 'Sigmund Wulff Gasse', 'street_no': '936', 'postcode': '7247', 'city': 'München'}, {'street': 'Edelgard Ruppert Gasse', 'street_no': '466', 'postcode': '5556', 'city': 'München'}, {'street': 'Dippelstr.', 'street_no': '785', 'postcode': '25561', 'city': 'München'}, {'street': 'Schaafplatz', 'street_no': '8', 'postcode': '7706', 'city': 'München'}], 'Aue': [{'street': 'Schollweg', 'street_no': '8', 'postcode': '1984', 'city': 'Aue'}, {'street': 'Anatoli Geisel Ring', 'street_no': '09', 'postcode': '2077', 'city': 'Aue'}, {'street': 'Karzplatz', 'street_no': '844', 'postcode': '0113', 'city': 'Aue'}], 'Mainz Kostheim': [{'street': 'Nancy Beyer Gasse', 'street_no': '7/0', 'postcode': '0939', 'city': 'Mainz Kostheim'}, {'street': 'Kai Uwe Kitzmann Platz', 'street_no': '30', 'postcode': '7024', 'city': 'Mainz Kostheim'}, {'street': 'Eckbauergasse', 'street_no': '4/0', 'postcode': '0115', 'city': 'Mainz Kostheim'}, {'street': 'Ernst-Dieter-Reinhardt-Straße', 'street_no': '36', 'postcode': '1397', 'city': 'Mainz Kostheim'}], 'Berlin': [{'street': 'Dirk Bauer Weg', 'street_no': '9/8', 'postcode': '7995', 'city': 'Berlin'}, {'street': 'Katarzyna Gehringer Platz', 'street_no': '847', 'postcode': '3743', 'city': 'Berlin'}, {'street': 'Kambsweg', 'street_no': '180', 'postcode': '5157', 'city': 'Berlin'}]}\n"
     ]
    }
   ],
   "source": [
    "def all_addresses(addresses):    \n",
    "    '''\n",
    "    using the auxillary functions, parses the address lines by street, street number, post code, and city\n",
    "    '''\n",
    "    total_addresses = []\n",
    "    for address_line in addresses:\n",
    "        address_line.strip()\n",
    "        address_line = re.sub(' +', ' ', address_line) # replace multiple spaces with one\n",
    "        city = get_city(address_line)\n",
    "        whole_street = get_whole_street(address_line)\n",
    "        street = get_street(whole_street)\n",
    "        street_no = get_street_no(whole_street)\n",
    "        postcode = get_postcode(address_line)\n",
    "        line_dict = {'street':street, 'street_no': street_no, 'postcode':postcode, 'city': city}\n",
    "        total_addresses.append(line_dict)\n",
    "    \n",
    "    return total_addresses\n",
    "\n",
    "def get_unique_cities(parsed_addresses):\n",
    "    cities = set()\n",
    "    for line in parsed_addresses:\n",
    "        cities.add(line['city'])\n",
    "    # get the unique cities\n",
    "    return cities\n",
    "\n",
    "def group_addresss_by_city(parsed_addresses, cities):\n",
    "    city_dict = dict()\n",
    "    for city in cities:\n",
    "        city_list = [address for address in parsed_addresses if address['city'] == city]\n",
    "        city_dict[city] = city_list\n",
    "    return city_dict\n",
    "\n",
    "def get_city(address_line):\n",
    "    city = re.findall('\\n.[0-9]+ (.*)',address_line)[0]\n",
    "    return city.strip()\n",
    "    #'\\n[0-9]+ (.*)' does not work for 'Dippelstr. 785\\n 25561 München', bc. of extra space between \\n and postalcode\n",
    "\n",
    "def get_whole_street(address_line):\n",
    "    street = re.findall('(.*)\\n|\\.[0-9]+ ',address_line)\n",
    "    return street[0].strip()\n",
    "    \n",
    "def get_street(whole_street):\n",
    "    street = whole_street.rsplit(' ', 1)[0]\n",
    "    return street.strip()\n",
    "\n",
    "def get_street_no(whole_street):\n",
    "    street_no = whole_street.rsplit(' ', 1)[1]\n",
    "    return street_no\n",
    "\n",
    "def get_postcode(address_line):\n",
    "    postcode = re.findall('\\n.([0-9]*)', address_line)[0]\n",
    "    return postcode\n",
    "\n",
    "# Call your code\n",
    "parsed_addresses = all_addresses(raw_addresses)\n",
    "\n",
    "unq_cities = get_unique_cities(parsed_addresses)\n",
    "\n",
    "expected_addresses = group_addresss_by_city(parsed_addresses, unq_cities)\n",
    "print(expected_addresses)"
   ]
  },
  {
   "cell_type": "code",
   "execution_count": 31,
   "metadata": {},
   "outputs": [
    {
     "ename": "AssertionError",
     "evalue": "Oops something is wrong",
     "output_type": "error",
     "traceback": [
      "\u001b[0;31m---------------------------------------------------------------------------\u001b[0m",
      "\u001b[0;31mAssertionError\u001b[0m                            Traceback (most recent call last)",
      "\u001b[0;32m<ipython-input-31-8c152ff1bdd4>\u001b[0m in \u001b[0;36m<module>\u001b[0;34m\u001b[0m\n\u001b[1;32m      2\u001b[0m \u001b[0;34m\u001b[0m\u001b[0m\n\u001b[1;32m      3\u001b[0m \u001b[0;31m# Check\u001b[0m\u001b[0;34m\u001b[0m\u001b[0;34m\u001b[0m\u001b[0;34m\u001b[0m\u001b[0m\n\u001b[0;32m----> 4\u001b[0;31m \u001b[0;32massert\u001b[0m \u001b[0mresult\u001b[0m \u001b[0;34m==\u001b[0m \u001b[0mexpected_addresses\u001b[0m\u001b[0;34m,\u001b[0m \u001b[0;34m'Oops something is wrong'\u001b[0m\u001b[0;34m\u001b[0m\u001b[0;34m\u001b[0m\u001b[0m\n\u001b[0m\u001b[1;32m      5\u001b[0m \u001b[0mprint\u001b[0m\u001b[0;34m(\u001b[0m\u001b[0;34m'Yeahhh you made it!'\u001b[0m\u001b[0;34m)\u001b[0m\u001b[0;34m\u001b[0m\u001b[0;34m\u001b[0m\u001b[0m\n\u001b[1;32m      6\u001b[0m \u001b[0;34m\u001b[0m\u001b[0m\n",
      "\u001b[0;31mAssertionError\u001b[0m: Oops something is wrong"
     ]
    }
   ],
   "source": [
    "# Feel free to add more checks here 👇\n",
    "\n",
    "# Check\n",
    "assert result == expected_addresses, 'Oops something is wrong'\n",
    "print('Yeahhh you made it!')\n",
    "\n",
    "# The reason check is not passed is:\n",
    "# the expected_addresses list has an additional comma ',' after the list item.\n",
    "# the result of my function does not include that. Which makes sense since no comma is necessary after the last item?\n",
    "# Also, the expected_addresses is not the same as the goal defined in the beginning.\n",
    "# The function to group by addresses is not here yet. I will hopefully do it soon :)"
   ]
  }
 ],
 "metadata": {
  "kernelspec": {
   "display_name": "Python 3",
   "language": "python",
   "name": "python3"
  },
  "language_info": {
   "codemirror_mode": {
    "name": "ipython",
    "version": 3
   },
   "file_extension": ".py",
   "mimetype": "text/x-python",
   "name": "python",
   "nbconvert_exporter": "python",
   "pygments_lexer": "ipython3",
   "version": "3.7.6"
  }
 },
 "nbformat": 4,
 "nbformat_minor": 4
}
